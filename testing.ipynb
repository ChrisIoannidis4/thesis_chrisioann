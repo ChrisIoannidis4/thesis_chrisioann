{
 "cells": [
  {
   "cell_type": "code",
   "execution_count": 6,
   "metadata": {},
   "outputs": [
    {
     "name": "stdout",
     "output_type": "stream",
     "text": [
      "(5671, 3)\n",
      "(2000, 3)\n"
     ]
    }
   ],
   "source": [
    "\n",
    "import random\n",
    "import numpy as np\n",
    "def select_subset(array, subset_size):\n",
    "    subset_indices = random.sample(range(len(array)), subset_size)\n",
    "    subset = [array[i] for i in subset_indices]\n",
    "    return np.array(subset)\n",
    "origial_array=np.load('data/temp/sampled_coordinates.npy')\n",
    "print(origial_array.shape)\n",
    "coord_subset = select_subset(origial_array, 2000)\n",
    "print(coord_subset.shape)\n"
   ]
  },
  {
   "cell_type": "code",
   "execution_count": 17,
   "metadata": {},
   "outputs": [
    {
     "name": "stdout",
     "output_type": "stream",
     "text": [
      "(640, 438)\n"
     ]
    }
   ],
   "source": [
    "from functions.c_optimization_problem import initialize_dictionary\n",
    "import numpy as np\n",
    "\n",
    "Weight_Space = np.load(\"data/X_W_arrays/W_space.npy\")\n",
    "\n",
    "print(Weight_Space.shape)"
   ]
  },
  {
   "cell_type": "code",
   "execution_count": 18,
   "metadata": {},
   "outputs": [],
   "source": [
    "Dw = initialize_dictionary(Weight_Space, 20)\n",
    "print(Dw.shape)"
   ]
  },
  {
   "cell_type": "code",
   "execution_count": 19,
   "metadata": {},
   "outputs": [
    {
     "name": "stdout",
     "output_type": "stream",
     "text": [
      "(640, 20)\n"
     ]
    }
   ],
   "source": [
    "\n",
    "\n",
    "def initialize_coefficients(D, all_ellements, a):\n",
    "    #X: (150, 500), d: (150X25), a: soothing factor\n",
    "    coefficients=np.zeros((D.shape[1] , all_ellements.shape[1]))\n",
    "    \n",
    "    for j, sample in enumerate(all_ellements.T):\n",
    "        for i, word in enumerate(D.T):\n",
    "            diff = np.linalg.norm(sample-word)**2\n",
    "            c_1=np.exp(-a * diff)\n",
    "            coefficients[i][j]=c_1\n",
    "    coefficients[:,j]/=np.sum(coefficients[:,j])\n",
    "    return coefficients"
   ]
  },
  {
   "cell_type": "code",
   "execution_count": 20,
   "metadata": {},
   "outputs": [],
   "source": [
    "from functions.c_optimization_problem import initialize_coefficients\n",
    "\n",
    "Lw=initialize_coefficients(Dw, Weight_Space, 0.2)\n",
    "print(Lw.shape)\n"
   ]
  },
  {
   "cell_type": "code",
   "execution_count": 22,
   "metadata": {},
   "outputs": [],
   "source": [
    "np.save(\"data/dictionaries/Dw\", Weight_Space)\n",
    "np.save(\"data/dictionaries/Lw\", Lw)"
   ]
  },
  {
   "cell_type": "code",
   "execution_count": 31,
   "metadata": {},
   "outputs": [
    {
     "name": "stdout",
     "output_type": "stream",
     "text": [
      "[0 1] (384, 384, 160)\n",
      "(20481580, 3)\n"
     ]
    }
   ],
   "source": [
    "def load_roi(subj_no):\n",
    "    roi = np.load(\"data/MRI_MASKS/roi_masks_dataset/roi_\"+ subj_no + \".npy\")\n",
    "    return roi \n",
    "\n",
    "roi = load_roi(\"9002430\")\n",
    "print(np.unique(roi), roi.shape)\n",
    "\n",
    "\n",
    "def gather_roi_indices(roi_array):\n",
    "    roi_inices=np.array(np.where(roi_array == 1)).T\n",
    "    # print(roi_inices)\n",
    "    roi_perimeter= [np.array(coord) for coord in roi_inices]\n",
    "    return np.array(roi_perimeter)\n",
    "# roi_perimeter=gather_roi_indices(roi)\n",
    "# print(roi_perimeter.shape, roi_perimeter)\n"
   ]
  },
  {
   "cell_type": "code",
   "execution_count": 28,
   "metadata": {},
   "outputs": [],
   "source": [
    "roi_perimeter = []\n",
    "for x in range(88,302,6):\n",
    "    for y in range(63,321,6):\n",
    "        for z in range(12,147,6):\n",
    "            roi_perimeter.append([x,y,z])\n",
    "\n",
    "roi_perimeter = np.array(roi_perimeter)"
   ]
  },
  {
   "cell_type": "code",
   "execution_count": 13,
   "metadata": {},
   "outputs": [
    {
     "name": "stderr",
     "output_type": "stream",
     "text": [
      "c:\\MySoftware\\python3\\Lib\\site-packages\\sklearn\\cluster\\_kmeans.py:870: FutureWarning: The default value of `n_init` will change from 10 to 'auto' in 1.4. Set the value of `n_init` explicitly to suppress the warning\n",
      "  warnings.warn(\n"
     ]
    },
    {
     "data": {
      "text/html": [
       "<style>#sk-container-id-1 {color: black;background-color: white;}#sk-container-id-1 pre{padding: 0;}#sk-container-id-1 div.sk-toggleable {background-color: white;}#sk-container-id-1 label.sk-toggleable__label {cursor: pointer;display: block;width: 100%;margin-bottom: 0;padding: 0.3em;box-sizing: border-box;text-align: center;}#sk-container-id-1 label.sk-toggleable__label-arrow:before {content: \"▸\";float: left;margin-right: 0.25em;color: #696969;}#sk-container-id-1 label.sk-toggleable__label-arrow:hover:before {color: black;}#sk-container-id-1 div.sk-estimator:hover label.sk-toggleable__label-arrow:before {color: black;}#sk-container-id-1 div.sk-toggleable__content {max-height: 0;max-width: 0;overflow: hidden;text-align: left;background-color: #f0f8ff;}#sk-container-id-1 div.sk-toggleable__content pre {margin: 0.2em;color: black;border-radius: 0.25em;background-color: #f0f8ff;}#sk-container-id-1 input.sk-toggleable__control:checked~div.sk-toggleable__content {max-height: 200px;max-width: 100%;overflow: auto;}#sk-container-id-1 input.sk-toggleable__control:checked~label.sk-toggleable__label-arrow:before {content: \"▾\";}#sk-container-id-1 div.sk-estimator input.sk-toggleable__control:checked~label.sk-toggleable__label {background-color: #d4ebff;}#sk-container-id-1 div.sk-label input.sk-toggleable__control:checked~label.sk-toggleable__label {background-color: #d4ebff;}#sk-container-id-1 input.sk-hidden--visually {border: 0;clip: rect(1px 1px 1px 1px);clip: rect(1px, 1px, 1px, 1px);height: 1px;margin: -1px;overflow: hidden;padding: 0;position: absolute;width: 1px;}#sk-container-id-1 div.sk-estimator {font-family: monospace;background-color: #f0f8ff;border: 1px dotted black;border-radius: 0.25em;box-sizing: border-box;margin-bottom: 0.5em;}#sk-container-id-1 div.sk-estimator:hover {background-color: #d4ebff;}#sk-container-id-1 div.sk-parallel-item::after {content: \"\";width: 100%;border-bottom: 1px solid gray;flex-grow: 1;}#sk-container-id-1 div.sk-label:hover label.sk-toggleable__label {background-color: #d4ebff;}#sk-container-id-1 div.sk-serial::before {content: \"\";position: absolute;border-left: 1px solid gray;box-sizing: border-box;top: 0;bottom: 0;left: 50%;z-index: 0;}#sk-container-id-1 div.sk-serial {display: flex;flex-direction: column;align-items: center;background-color: white;padding-right: 0.2em;padding-left: 0.2em;position: relative;}#sk-container-id-1 div.sk-item {position: relative;z-index: 1;}#sk-container-id-1 div.sk-parallel {display: flex;align-items: stretch;justify-content: center;background-color: white;position: relative;}#sk-container-id-1 div.sk-item::before, #sk-container-id-1 div.sk-parallel-item::before {content: \"\";position: absolute;border-left: 1px solid gray;box-sizing: border-box;top: 0;bottom: 0;left: 50%;z-index: -1;}#sk-container-id-1 div.sk-parallel-item {display: flex;flex-direction: column;z-index: 1;position: relative;background-color: white;}#sk-container-id-1 div.sk-parallel-item:first-child::after {align-self: flex-end;width: 50%;}#sk-container-id-1 div.sk-parallel-item:last-child::after {align-self: flex-start;width: 50%;}#sk-container-id-1 div.sk-parallel-item:only-child::after {width: 0;}#sk-container-id-1 div.sk-dashed-wrapped {border: 1px dashed gray;margin: 0 0.4em 0.5em 0.4em;box-sizing: border-box;padding-bottom: 0.4em;background-color: white;}#sk-container-id-1 div.sk-label label {font-family: monospace;font-weight: bold;display: inline-block;line-height: 1.2em;}#sk-container-id-1 div.sk-label-container {text-align: center;}#sk-container-id-1 div.sk-container {/* jupyter's `normalize.less` sets `[hidden] { display: none; }` but bootstrap.min.css set `[hidden] { display: none !important; }` so we also need the `!important` here to be able to override the default hidden behavior on the sphinx rendered scikit-learn.org. See: https://github.com/scikit-learn/scikit-learn/issues/21755 */display: inline-block !important;position: relative;}#sk-container-id-1 div.sk-text-repr-fallback {display: none;}</style><div id=\"sk-container-id-1\" class=\"sk-top-container\"><div class=\"sk-text-repr-fallback\"><pre>KMeans(n_clusters=120, random_state=1, verbose=False)</pre><b>In a Jupyter environment, please rerun this cell to show the HTML representation or trust the notebook. <br />On GitHub, the HTML representation is unable to render, please try loading this page with nbviewer.org.</b></div><div class=\"sk-container\" hidden><div class=\"sk-item\"><div class=\"sk-estimator sk-toggleable\"><input class=\"sk-toggleable__control sk-hidden--visually\" id=\"sk-estimator-id-1\" type=\"checkbox\" checked><label for=\"sk-estimator-id-1\" class=\"sk-toggleable__label sk-toggleable__label-arrow\">KMeans</label><div class=\"sk-toggleable__content\"><pre>KMeans(n_clusters=120, random_state=1, verbose=False)</pre></div></div></div></div></div>"
      ],
      "text/plain": [
       "KMeans(n_clusters=120, random_state=1, verbose=False)"
      ]
     },
     "execution_count": 13,
     "metadata": {},
     "output_type": "execute_result"
    }
   ],
   "source": [
    "random_state=1\n",
    "kmeans_model1=KMeans(n_clusters=120, verbose=False, init='k-means++', random_state=random_state)\n",
    "kmeans_model1.fit(roi_perimeter)"
   ]
  },
  {
   "cell_type": "code",
   "execution_count": 14,
   "metadata": {},
   "outputs": [
    {
     "name": "stderr",
     "output_type": "stream",
     "text": [
      "c:\\MySoftware\\python3\\Lib\\site-packages\\sklearn\\cluster\\_kmeans.py:870: FutureWarning: The default value of `n_init` will change from 10 to 'auto' in 1.4. Set the value of `n_init` explicitly to suppress the warning\n",
      "  warnings.warn(\n"
     ]
    },
    {
     "data": {
      "text/html": [
       "<style>#sk-container-id-2 {color: black;background-color: white;}#sk-container-id-2 pre{padding: 0;}#sk-container-id-2 div.sk-toggleable {background-color: white;}#sk-container-id-2 label.sk-toggleable__label {cursor: pointer;display: block;width: 100%;margin-bottom: 0;padding: 0.3em;box-sizing: border-box;text-align: center;}#sk-container-id-2 label.sk-toggleable__label-arrow:before {content: \"▸\";float: left;margin-right: 0.25em;color: #696969;}#sk-container-id-2 label.sk-toggleable__label-arrow:hover:before {color: black;}#sk-container-id-2 div.sk-estimator:hover label.sk-toggleable__label-arrow:before {color: black;}#sk-container-id-2 div.sk-toggleable__content {max-height: 0;max-width: 0;overflow: hidden;text-align: left;background-color: #f0f8ff;}#sk-container-id-2 div.sk-toggleable__content pre {margin: 0.2em;color: black;border-radius: 0.25em;background-color: #f0f8ff;}#sk-container-id-2 input.sk-toggleable__control:checked~div.sk-toggleable__content {max-height: 200px;max-width: 100%;overflow: auto;}#sk-container-id-2 input.sk-toggleable__control:checked~label.sk-toggleable__label-arrow:before {content: \"▾\";}#sk-container-id-2 div.sk-estimator input.sk-toggleable__control:checked~label.sk-toggleable__label {background-color: #d4ebff;}#sk-container-id-2 div.sk-label input.sk-toggleable__control:checked~label.sk-toggleable__label {background-color: #d4ebff;}#sk-container-id-2 input.sk-hidden--visually {border: 0;clip: rect(1px 1px 1px 1px);clip: rect(1px, 1px, 1px, 1px);height: 1px;margin: -1px;overflow: hidden;padding: 0;position: absolute;width: 1px;}#sk-container-id-2 div.sk-estimator {font-family: monospace;background-color: #f0f8ff;border: 1px dotted black;border-radius: 0.25em;box-sizing: border-box;margin-bottom: 0.5em;}#sk-container-id-2 div.sk-estimator:hover {background-color: #d4ebff;}#sk-container-id-2 div.sk-parallel-item::after {content: \"\";width: 100%;border-bottom: 1px solid gray;flex-grow: 1;}#sk-container-id-2 div.sk-label:hover label.sk-toggleable__label {background-color: #d4ebff;}#sk-container-id-2 div.sk-serial::before {content: \"\";position: absolute;border-left: 1px solid gray;box-sizing: border-box;top: 0;bottom: 0;left: 50%;z-index: 0;}#sk-container-id-2 div.sk-serial {display: flex;flex-direction: column;align-items: center;background-color: white;padding-right: 0.2em;padding-left: 0.2em;position: relative;}#sk-container-id-2 div.sk-item {position: relative;z-index: 1;}#sk-container-id-2 div.sk-parallel {display: flex;align-items: stretch;justify-content: center;background-color: white;position: relative;}#sk-container-id-2 div.sk-item::before, #sk-container-id-2 div.sk-parallel-item::before {content: \"\";position: absolute;border-left: 1px solid gray;box-sizing: border-box;top: 0;bottom: 0;left: 50%;z-index: -1;}#sk-container-id-2 div.sk-parallel-item {display: flex;flex-direction: column;z-index: 1;position: relative;background-color: white;}#sk-container-id-2 div.sk-parallel-item:first-child::after {align-self: flex-end;width: 50%;}#sk-container-id-2 div.sk-parallel-item:last-child::after {align-self: flex-start;width: 50%;}#sk-container-id-2 div.sk-parallel-item:only-child::after {width: 0;}#sk-container-id-2 div.sk-dashed-wrapped {border: 1px dashed gray;margin: 0 0.4em 0.5em 0.4em;box-sizing: border-box;padding-bottom: 0.4em;background-color: white;}#sk-container-id-2 div.sk-label label {font-family: monospace;font-weight: bold;display: inline-block;line-height: 1.2em;}#sk-container-id-2 div.sk-label-container {text-align: center;}#sk-container-id-2 div.sk-container {/* jupyter's `normalize.less` sets `[hidden] { display: none; }` but bootstrap.min.css set `[hidden] { display: none !important; }` so we also need the `!important` here to be able to override the default hidden behavior on the sphinx rendered scikit-learn.org. See: https://github.com/scikit-learn/scikit-learn/issues/21755 */display: inline-block !important;position: relative;}#sk-container-id-2 div.sk-text-repr-fallback {display: none;}</style><div id=\"sk-container-id-2\" class=\"sk-top-container\"><div class=\"sk-text-repr-fallback\"><pre>KMeans(n_clusters=5, random_state=1, verbose=False)</pre><b>In a Jupyter environment, please rerun this cell to show the HTML representation or trust the notebook. <br />On GitHub, the HTML representation is unable to render, please try loading this page with nbviewer.org.</b></div><div class=\"sk-container\" hidden><div class=\"sk-item\"><div class=\"sk-estimator sk-toggleable\"><input class=\"sk-toggleable__control sk-hidden--visually\" id=\"sk-estimator-id-2\" type=\"checkbox\" checked><label for=\"sk-estimator-id-2\" class=\"sk-toggleable__label sk-toggleable__label-arrow\">KMeans</label><div class=\"sk-toggleable__content\"><pre>KMeans(n_clusters=5, random_state=1, verbose=False)</pre></div></div></div></div></div>"
      ],
      "text/plain": [
       "KMeans(n_clusters=5, random_state=1, verbose=False)"
      ]
     },
     "execution_count": 14,
     "metadata": {},
     "output_type": "execute_result"
    }
   ],
   "source": [
    "kmeans_model2=KMeans(n_clusters=5, verbose=False, init='k-means++', random_state=random_state)\n",
    "kmeans_model2.fit(kmeans_model1.cluster_centers_)"
   ]
  },
  {
   "cell_type": "code",
   "execution_count": 15,
   "metadata": {},
   "outputs": [
    {
     "data": {
      "text/plain": [
       "array([[143.21343437, 284.26397253,  78.97700227],\n",
       "       [249.42306288, 130.42189711,  78.86156424],\n",
       "       [141.64832759, 113.13232281,  76.02412297],\n",
       "       [250.02234419, 257.040163  ,  79.61890683],\n",
       "       [148.85776705, 202.2834326 ,  82.29225956]])"
      ]
     },
     "execution_count": 15,
     "metadata": {},
     "output_type": "execute_result"
    }
   ],
   "source": [
    "kmeans_model2.cluster_centers_"
   ]
  },
  {
   "cell_type": "code",
   "execution_count": 16,
   "metadata": {},
   "outputs": [
    {
     "name": "stdout",
     "output_type": "stream",
     "text": [
      "(60372, 3)\n"
     ]
    }
   ],
   "source": [
    "roi_subset = []\n",
    "subregion_centers=kmeans_model2.cluster_centers_\n",
    "for coordinate in roi_perimeter:\n",
    "    x,y,z=coordinate\n",
    "    if x%5==0 and y%5==0 and z%5==0:\n",
    "        roi_subset.append(coordinate)\n",
    "roi_subset=np.array(roi_subset)\n",
    "print(roi_subset.shape)"
   ]
  },
  {
   "cell_type": "code",
   "execution_count": 17,
   "metadata": {},
   "outputs": [],
   "source": [
    "first_label = kmeans_model1.predict(roi_subset)\n",
    "final_label = kmeans_model2.predict(kmeans_model1.cluster_centers_[first_label])\n"
   ]
  },
  {
   "cell_type": "code",
   "execution_count": 18,
   "metadata": {},
   "outputs": [],
   "source": [
    "subregion_1 = roi_subset[final_label==0]\n",
    "subregion_2 = roi_subset[final_label==1]\n",
    "subregion_3 = roi_subset[final_label==2]\n",
    "subregion_4 = roi_subset[final_label==3]\n",
    "subregion_5 = roi_subset[final_label==4]\n"
   ]
  },
  {
   "cell_type": "code",
   "execution_count": 19,
   "metadata": {},
   "outputs": [
    {
     "name": "stdout",
     "output_type": "stream",
     "text": [
      "(9561, 3)  --  (15142, 3)  --  (11851, 3)  --  (13755, 3)  --  (10063, 3)\n"
     ]
    }
   ],
   "source": [
    "print(subregion_1.shape, \" -- \", subregion_2.shape, \" -- \",subregion_3.shape, \" -- \",subregion_4.shape, \" -- \",subregion_5.shape)"
   ]
  },
  {
   "cell_type": "code",
   "execution_count": 21,
   "metadata": {},
   "outputs": [],
   "source": [
    "np.save(\"coordinates/sub_1_coord.npy\", subregion_1)\n",
    "np.save(\"coordinates/sub_2_coord.npy\", subregion_2)\n",
    "np.save(\"coordinates/sub_3_coord.npy\", subregion_3)\n",
    "np.save(\"coordinates/sub_4_coord.npy\", subregion_4)\n",
    "np.save(\"coordinates/sub_5_coord.npy\", subregion_5)"
   ]
  },
  {
   "cell_type": "code",
   "execution_count": null,
   "metadata": {},
   "outputs": [],
   "source": [
    "coordinates= np.load(\"data/temp/general_coordinates.npy\")\n",
    "dir1 = os.listdir(\"data/MRI_MASKS/subjects\")\n",
    "dir2 = [(os.listdir(\"data/MRI_MASKS/segmentation_masks\")[i]).split(\".\")[0] for i in range(len(os.listdir(\"data/MRI_MASKS/segmentation_masks\")))]\n",
    "dir3 = [(os.listdir(\"data/MRI_MASKS/roi_masks_dataset\")[i]).split(\".\")[0][4:] for i in range(len(os.listdir(\"data/MRI_MASKS/roi_masks_dataset\")))]\n",
    "common_subjects = list(set(dir1).intersection(dir2).intersection(dir3))"
   ]
  },
  {
   "cell_type": "code",
   "execution_count": 63,
   "metadata": {},
   "outputs": [
    {
     "name": "stdout",
     "output_type": "stream",
     "text": [
      "(125, 437) (640, 438)\n"
     ]
    }
   ],
   "source": [
    "X = np.load(\"data/X_W_arrays/X_space.npy\")\n",
    "W = np.load(\"data/X_W_arrays/W_space.npy\")\n",
    "\n",
    "print(X.shape, W.shape)"
   ]
  },
  {
   "cell_type": "code",
   "execution_count": 65,
   "metadata": {},
   "outputs": [
    {
     "name": "stdout",
     "output_type": "stream",
     "text": [
      "437\n"
     ]
    }
   ],
   "source": [
    "import os\n",
    "dir1 = os.listdir(\"data/MRI_MASKS/subjects\")\n",
    "dir2 = [(os.listdir(\"data/MRI_MASKS/segmentation_masks\")[i]).split(\".\")[0] for i in range(len(os.listdir(\"data/MRI_MASKS/segmentation_masks\")))]\n",
    "common_subjects = list(set(dir1).intersection(dir2))\n",
    "print(len(common_subjects))"
   ]
  },
  {
   "cell_type": "code",
   "execution_count": 66,
   "metadata": {},
   "outputs": [
    {
     "name": "stdout",
     "output_type": "stream",
     "text": [
      "437\n"
     ]
    }
   ],
   "source": [
    "dir1 = os.listdir(\"data/MRI_MASKS/subjects\")\n",
    "dir2 = [(os.listdir(\"data/MRI_MASKS/segmentation_masks\")[i]).split(\".\")[0] for i in range(len(os.listdir(\"data/MRI_MASKS/segmentation_masks\")))]\n",
    "common_subjects = list(set(dir1).intersection(dir2))\n",
    "print(len(common_subjects))"
   ]
  },
  {
   "cell_type": "code",
   "execution_count": 71,
   "metadata": {},
   "outputs": [
    {
     "name": "stdout",
     "output_type": "stream",
     "text": [
      "(125, 25)\n"
     ]
    }
   ],
   "source": [
    "\n",
    "# print(np.load(\"data/dictionaries/Dw.npy\").shape)\n",
    "Dx = initialize_dictionary(X, 25)\n",
    "print(Dx.shape)\n",
    "np.save(\"data/dictionaries/Dx.npy\",Dx)"
   ]
  },
  {
   "cell_type": "code",
   "execution_count": 74,
   "metadata": {},
   "outputs": [],
   "source": [
    "Lx = initialize_coefficients(Dx, X, 0.8) #(25, 437)"
   ]
  },
  {
   "cell_type": "code",
   "execution_count": 76,
   "metadata": {},
   "outputs": [],
   "source": [
    "np.save(\"data/dictionaries/Lx.npy\", Lx)"
   ]
  },
  {
   "cell_type": "code",
   "execution_count": 77,
   "metadata": {},
   "outputs": [],
   "source": [
    "import numpy as np\n",
    "from functions.c_optimization_problem import *\n",
    "\n",
    "W = np.load(\"data/X_W_arrays/W_space.npy\")\n",
    "Dw = initialize_dictionary(W, 25)\n",
    "Lw = initialize_coefficients(Dw, W, 0.8)"
   ]
  },
  {
   "cell_type": "code",
   "execution_count": 78,
   "metadata": {},
   "outputs": [],
   "source": [
    "np.save(\"data/dictionaries/W.npy\", W)\n",
    "np.save(\"data/dictionaries/Dw.npy\", Dw)\n",
    "np.save(\"data/dictionaries/LW.npy\", Lw)"
   ]
  },
  {
   "cell_type": "code",
   "execution_count": 12,
   "metadata": {},
   "outputs": [
    {
     "name": "stdout",
     "output_type": "stream",
     "text": [
      "35.07317933345089 %\n"
     ]
    }
   ],
   "source": [
    "import numpy as np \n",
    "roi1=np.load('data/MRI_MASKS/roi_masks_dataset/roi_9001104.npy')\n",
    "roi2=np.load('data/MRI_MASKS/roi_masks_dataset/roi_9023193.npy')\n",
    "roi3=np.load('data/MRI_MASKS/roi_masks_dataset/roi_9011420.npy')\n",
    "\n",
    "coord=np.load('data/temp/sampled_coordinates.npy')\n",
    "\n",
    "i=0\n",
    "\n",
    "for coordinate in coord:\n",
    "    x,y,z = coordinate\n",
    "    if roi2[x,y,z] ==roi1 [x,y,z] == roi3 [x,y,z]:\n",
    "        i+=1\n"
   ]
  },
  {
   "attachments": {},
   "cell_type": "markdown",
   "metadata": {},
   "source": [
    "# TESTING QCQP"
   ]
  },
  {
   "cell_type": "code",
   "execution_count": 9,
   "metadata": {},
   "outputs": [],
   "source": [
    "def initialize_dictionary(all_elements, Dictionary_Size):\n",
    "    \n",
    "    k = Dictionary_Size\n",
    "    descr_kmeans=KMeans(n_clusters=k, random_state=0)\n",
    "    descr_kmeans.fit(all_elements.T)\n",
    "    dictionary = descr_kmeans.cluster_centers_  \n",
    "\n",
    "    return dictionary.T\n",
    "\n",
    "#Soft voting to initialize Lx (Zhang et al 2013 - 2.Soft Assignment Coding)\n",
    "def initialize_coefficients(D, all_ellements, a):\n",
    "    #X: (150, 500), d: (150X25), a: soothing factor\n",
    "    coefficients=np.zeros((D.shape[1] , all_ellements.shape[1]))\n",
    "    \n",
    "    for j, sample in enumerate(all_ellements.T):\n",
    "        for i, word in enumerate(D.T):\n",
    "            diff = np.linalg.norm(sample-word)**2 \n",
    "            c_1=np.exp(-a * diff)\n",
    "            coefficients[i][j]=c_1\n",
    "    coefficients[:,j]/=np.sum(coefficients[:,j])\n",
    "    return coefficients\n"
   ]
  },
  {
   "cell_type": "code",
   "execution_count": 3,
   "metadata": {},
   "outputs": [
    {
     "name": "stderr",
     "output_type": "stream",
     "text": [
      "c:\\MySoftware\\python3\\Lib\\site-packages\\sklearn\\cluster\\_kmeans.py:870: FutureWarning: The default value of `n_init` will change from 10 to 'auto' in 1.4. Set the value of `n_init` explicitly to suppress the warning\n",
      "  warnings.warn(\n"
     ]
    }
   ],
   "source": [
    "import numpy as np\n",
    "from scipy.optimize import minimize#, NonlinearConstraint \n",
    "from sklearn.cluster import KMeans \n",
    "# Objective function\n",
    "def objective(dx, X, Lx):\n",
    "    dx =dx.reshape(dx.shape[0],1)\n",
    "    return np.linalg.norm(X - dx @ Lx, ord='fro')#**2\n",
    "\n",
    "# Constraint function\n",
    "def constraint(dx):\n",
    "    return 1 - np.linalg.norm(dx, ord=2)\n",
    "\n",
    "def constraint_jacobian(dx):\n",
    "    return - (dx / np.linalg.norm(dx, ord=2))\n",
    "\n",
    "X = np.random.rand(150, 500)\n",
    "Dx_init = initialize_dictionary(X, 25)\n",
    "Lx = initialize_coefficients(Dx_init, X, 0.8)\n"
   ]
  },
  {
   "cell_type": "code",
   "execution_count": 4,
   "metadata": {},
   "outputs": [
    {
     "name": "stderr",
     "output_type": "stream",
     "text": [
      "C:\\Users\\ChrisIoannidis\\AppData\\Local\\Temp\\ipykernel_11496\\2448636275.py:18: DeprecationWarning: Use of `minimize` with `x0.ndim != 1` is deprecated. Currently, singleton dimensions will be removed from `x0`, but an error will be raised in SciPy 1.11.0.\n",
      "  result = minimize(objective, dx_init, args=(A, B), method= 'COBYLA', constraints=[constraint_definition],jac = constraint_jacobian ,options={'maxiter' : 1000 , 'disp' : False })\n",
      "c:\\MySoftware\\python3\\Lib\\site-packages\\scipy\\optimize\\_minimize.py:549: RuntimeWarning: Method COBYLA does not use gradient information (jac).\n",
      "  warn('Method %s does not use gradient information (jac).' % method,\n"
     ]
    }
   ],
   "source": [
    "n = X.shape[1]\n",
    "        \n",
    "        \n",
    "        # Constraint definition\n",
    "constraint_definition = {'type': 'ineq', 'fun': constraint}     \n",
    "\n",
    "def col_by_col_step(Dx_init):\n",
    "\n",
    "    Dx = Dx_init.copy()\n",
    "    \n",
    "    for i, dx_init in enumerate(Dx_init.T):\n",
    "        # Bounds for dx\n",
    "        dx_init = np.reshape(dx_init, [dx_init.shape[0], 1])\n",
    "        # constraint_definition = NonlinearConstraint(constraint, -np.inf, 1, jac=constraint_jacobian)\n",
    "        # objective =  cp.Minimize(cp.sum_squares( + Di@L[i,:].reshape(1,no_samples)))\n",
    "        A = X - np.sum([Dx[:,j].reshape(Dx[:,j].shape[0],1)@Lx[j,:].reshape(1,n) for j in range(Dx.shape[1]) if j!=i], axis=0)\n",
    "        B = Lx[i, :].reshape(1,n)\n",
    "        result = minimize(objective, dx_init, args=(A, B), method= 'COBYLA', constraints=[constraint_definition], options={'maxiter' : 1000 , 'disp' : False })\n",
    "\n",
    "        # Obtained solution\n",
    "        dx_optimal = result.x\n",
    "        \n",
    "        # print(np.linalg.norm(dx_optimal))\n",
    "        Dx[:,i] = dx_optimal\n",
    "\n",
    "    return Dx\n",
    "\n",
    "Dx = col_by_col_step(Dx_init)"
   ]
  },
  {
   "cell_type": "code",
   "execution_count": 5,
   "metadata": {},
   "outputs": [
    {
     "name": "stdout",
     "output_type": "stream",
     "text": [
      "before 157.93763276395114\n"
     ]
    },
    {
     "name": "stderr",
     "output_type": "stream",
     "text": [
      "C:\\Users\\ChrisIoannidis\\AppData\\Local\\Temp\\ipykernel_11496\\2448636275.py:18: DeprecationWarning: Use of `minimize` with `x0.ndim != 1` is deprecated. Currently, singleton dimensions will be removed from `x0`, but an error will be raised in SciPy 1.11.0.\n",
      "  result = minimize(objective, dx_init, args=(A, B), method= 'COBYLA', constraints=[constraint_definition],jac = constraint_jacobian ,options={'maxiter' : 1000 , 'disp' : False })\n"
     ]
    },
    {
     "name": "stdout",
     "output_type": "stream",
     "text": [
      "157.93763276395114\n",
      "157.95099537042518\n",
      "157.98538950860853\n",
      "157.982432517066\n",
      "157.98440889237486\n",
      "157.99306041789603\n",
      "157.9745768613824\n",
      "157.98632085643854\n",
      "157.98073586379698\n",
      "157.98531975626346\n"
     ]
    }
   ],
   "source": [
    "def optimization_loop(Dx_init):\n",
    "    norms =[]\n",
    "    Dx = Dx_init.copy()\n",
    "    for i in range(100): \n",
    "        Dx = col_by_col_step(Dx)\n",
    "        print(np.linalg.norm(X - Dx @ Lx, ord='fro'))\n",
    "    return Dx\n",
    "\n",
    "print('before' , np.linalg.norm(X - Dx @ Lx, ord='fro'))\n",
    "\n",
    "\n",
    "Dx = optimization_loop(Dx_init)\n",
    "\n",
    "\n",
    "print('after' , np.linalg.norm(X - Dx @ Lx, ord='fro'))\n",
    "        "
   ]
  },
  {
   "cell_type": "code",
   "execution_count": 1,
   "metadata": {},
   "outputs": [
    {
     "name": "stdout",
     "output_type": "stream",
     "text": [
      "1.3.1\n"
     ]
    }
   ],
   "source": [
    "import cvxpy as cvx\n",
    "\n",
    "print(cvx.__version__)\n",
    "\n",
    "\n"
   ]
  },
  {
   "cell_type": "code",
   "execution_count": 2,
   "metadata": {},
   "outputs": [],
   "source": [
    "import cvxpy as cp"
   ]
  },
  {
   "cell_type": "code",
   "execution_count": 16,
   "metadata": {},
   "outputs": [],
   "source": [
    "\n",
    "def update_dictionaries_step(X, D, L, n, no_samples):\n",
    "    k = 25\n",
    "    # (150x500) = (150x1)(1x500)\n",
    "    for i in range(k):    \n",
    "        Di = cp.Variable((n,1))\n",
    "        # print(\"old: \",D[:10,i])\n",
    "        objective =  cp.Minimize(cp.sum_squares(X - np.sum([D[:,j]@L[j,:].reshape(1,no_samples) \n",
    "                                                           for j in range(k) if i!=i]) + Di@L[i,:].reshape(1,no_samples)))\n",
    "                                                 # cp.Minimize(np.linalg.norm(X - Dx@Lx, \"fro\"))\n",
    "        \n",
    "        constraints = [cp.norm2(Di) <= 1]\n",
    "\n",
    "        prob = cp.Problem(objective, constraints) \n",
    "        # try:\n",
    "        prob.solve(solver='OSQP',verbose=True)\n",
    "        # except cp.error.SolverError:\n",
    "        #     prob.solve(solver='SCS')\n",
    "\n",
    "        print(prob.status) #infea/sible_inaccurate\n",
    "        D[:,i] = Di.value.reshape(n,) #AttributeError: 'NoneType' object has no attribute 'reshape'\n",
    "\n",
    "    return D\n"
   ]
  },
  {
   "cell_type": "code",
   "execution_count": 13,
   "metadata": {},
   "outputs": [
    {
     "name": "stderr",
     "output_type": "stream",
     "text": [
      "c:\\MySoftware\\python3\\Lib\\site-packages\\sklearn\\cluster\\_kmeans.py:870: FutureWarning: The default value of `n_init` will change from 10 to 'auto' in 1.4. Set the value of `n_init` explicitly to suppress the warning\n",
      "  warnings.warn(\n"
     ]
    }
   ],
   "source": [
    "X = np.random.rand(150, 500)\n",
    "Dx_init = initialize_dictionary(X, 25)\n",
    "Lx = initialize_coefficients(Dx_init, X, 0.8)\n",
    "n = 150\n",
    "no_samples=500"
   ]
  },
  {
   "attachments": {},
   "cell_type": "markdown",
   "metadata": {},
   "source": [
    "# LASSO"
   ]
  },
  {
   "cell_type": "code",
   "execution_count": 6,
   "metadata": {},
   "outputs": [
    {
     "name": "stderr",
     "output_type": "stream",
     "text": [
      "c:\\MySoftware\\python3\\Lib\\site-packages\\sklearn\\cluster\\_kmeans.py:870: FutureWarning: The default value of `n_init` will change from 10 to 'auto' in 1.4. Set the value of `n_init` explicitly to suppress the warning\n",
      "  warnings.warn(\n"
     ]
    }
   ],
   "source": [
    "import numpy as np\n",
    "from sklearn.cluster import KMeans \n",
    "\n",
    "W = np.random.uniform(0,1, [645, 500])\n",
    "Dw = initialize_dictionary(W, 25)\n",
    "Lx = np.random.uniform(0,1, [25, 500])\n",
    "M = np.random.uniform(0,1, [25, 25])"
   ]
  },
  {
   "cell_type": "code",
   "execution_count": 7,
   "metadata": {},
   "outputs": [],
   "source": [
    "import numpy as np \n",
    "from sklearn.linear_model import LassoLars\n",
    " \n",
    "\n",
    "def lars_col_by_col(X, y , alpha=0.01):\n",
    "    lasso = LassoLars(alpha=alpha)\n",
    "    lasso.fit(X, y)\n",
    "    return lasso.coef_\n",
    "\n",
    "\n",
    "def update_Lw_step(W, Dw, M, Lx, gamma=0.7, alpha=0.01):\n",
    "\n",
    "    Y = np.vstack([W, gamma * M @ Lx])\n",
    "    X = np.vstack([Dw, gamma * np.identity(25)])\n",
    "    Lw = np.zeros([Dw.shape[1], W.shape[1]])\n",
    "    \n",
    "    for i, y in enumerate(Y.T):\n",
    "    \n",
    "        lw_col = lars_col_by_col(X, y)\n",
    "        Lw[:, i] = lw_col\n",
    "\n",
    "    return Lw\n",
    "\n",
    "Lw = update_Lw_step(W, Dw, M, Lx, gamma=0.7, alpha=0.01)\n"
   ]
  },
  {
   "cell_type": "code",
   "execution_count": 23,
   "metadata": {},
   "outputs": [
    {
     "name": "stdout",
     "output_type": "stream",
     "text": [
      "(870966, 3)\n"
     ]
    }
   ],
   "source": [
    "import numpy as np\n",
    "coordinate_cube = np.load('coordinates/coordinate_cube.npy')\n",
    "print(coordinate_cube.shape)\n",
    "# coordinates/coordinate_cube.npy"
   ]
  },
  {
   "cell_type": "code",
   "execution_count": 2,
   "metadata": {},
   "outputs": [],
   "source": [
    "import SimpleITK as sitk\n",
    "import os"
   ]
  },
  {
   "cell_type": "code",
   "execution_count": 18,
   "metadata": {},
   "outputs": [],
   "source": [
    "def get_lists_of_of_paths(directory):\n",
    "    file_list = os.listdir(directory)\n",
    "    file_paths = []\n",
    "    for file in file_list:\n",
    "        file_path = os.path.join(directory, file)\n",
    "        file_paths.append(file_path)\n",
    "\n",
    "    return file_paths  \n",
    "\n",
    "def svm_coordinate_sampling(segm, roi):\n",
    "    coord_labels = []\n",
    "    coordinates = []\n",
    "    \n",
    "    mask_values = segm[coordinate_cube[:,0], coordinate_cube[:,1], coordinate_cube[:,2]]\n",
    "\n",
    "    threshold_4 = np.count_nonzero(mask_values == 4) #.shape[0]#len(segm[segm[coordinate_cube]==4])\n",
    "    \n",
    "    threshold_1=int(threshold_4/1.2)\n",
    "    threshold_2=int(threshold_4*1.3)\n",
    "    threshold_3=int(threshold_4/1.1)\n",
    "    threshold_0=int(threshold_4/1.3)\n",
    "   \n",
    "    i_0,i_1,i_2,i_3,i_4 =0, 0, 0, 0, 0\n",
    "    \n",
    "    print(threshold_0,threshold_1,threshold_2,threshold_3,threshold_4)\n",
    "        \n",
    "        \n",
    "    for coordinate in coordinate_cube:\n",
    "        x,y,z = coordinate\n",
    "        if roi[x,y,z]==1 and 360>x>6 and 360>y>6 and 150>z>6:\n",
    "            if segm[x,y,z]==0 and i_0<threshold_0:\n",
    "                coordinates.append(coordinate)\n",
    "                i_0+=1\n",
    "                coord_labels.append(0)\n",
    "            elif segm[x,y,z]==1 and i_1<threshold_1:\n",
    "                coordinates.append(coordinate)\n",
    "                i_1+=1\n",
    "                coord_labels.append(1)\n",
    "            elif segm[x,y,z]==2 and i_2<threshold_2:\n",
    "                coordinates.append(coordinate)\n",
    "                i_2+=1\n",
    "                coord_labels.append(2)\n",
    "            elif segm[x,y,z]==3 and i_3<threshold_3:\n",
    "                coordinates.append(coordinate)\n",
    "                i_3+=1\n",
    "                coord_labels.append(3)\n",
    "            elif segm[x,y,z]==4 and i_4<threshold_4:\n",
    "                coordinates.append(coordinate)\n",
    "                i_4+=1 \n",
    "                coord_labels.append(4)\n",
    "                \n",
    "    coord_labels=np.array(coord_labels)\n",
    "    unique_values, counts = np.unique(coord_labels, return_counts=True)\n",
    "\n",
    "    for value, count in zip(unique_values, counts):\n",
    "        print(f\"{value}: {count}\")\n",
    "    coordinates = np.array(coordinates)  \n",
    "    np.random.shuffle(coordinates)      \n",
    "    return coordinates\n",
    "\n",
    "\n",
    "def fn_scan_to_array(base_path):\n",
    "    mid_file=get_lists_of_of_paths(base_path)[0]\n",
    "    slice_list=get_lists_of_of_paths(mid_file)\n",
    "    for i in range(160):\n",
    "        if i==0:    \n",
    "            slice = sitk.ReadImage(get_lists_of_of_paths(mid_file)[0])\n",
    "            scan_array3D = (sitk.GetArrayFromImage(slice)).reshape(384,384)\n",
    "        else:  \n",
    "            slice = sitk.ReadImage(get_lists_of_of_paths(mid_file)[i])\n",
    "            slice_array= sitk.GetArrayFromImage(slice).reshape(384,384)\n",
    "            scan_array3D=np.dstack((scan_array3D, slice_array))\n",
    "    return scan_array3D  # (384, 384, 160)\n",
    "\n",
    "\n",
    "\n",
    "def fn_segm_mask_to_array(subject_name):\n",
    "\n",
    "    mhd_path = \"data/\" + subject_name +\"/\"+subject_name+\".segmentation_masks.mhd\"\n",
    "    segm_mask = sitk.GetArrayFromImage(sitk.ReadImage(mhd_path, sitk.sitkFloat32))\n",
    "    return np.flip(segm_mask, axis=0) # (384, 384, 160)\n"
   ]
  },
  {
   "cell_type": "code",
   "execution_count": 22,
   "metadata": {},
   "outputs": [
    {
     "name": "stdout",
     "output_type": "stream",
     "text": [
      "1993 2160 3369 2356 2592\n",
      "0: 1993\n",
      "1: 2160\n",
      "2: 3369\n",
      "3: 2356\n",
      "4: 2592\n",
      "(12470, 3)\n"
     ]
    }
   ],
   "source": [
    "import os\n",
    "import numpy as np\n",
    "import SimpleITK as sitk\n",
    "mri_scan = fn_scan_to_array('data/9004175')\n",
    "segm_mask = fn_segm_mask_to_array('9004175')\n",
    "roi = np.load('data/9004175/roi.npy')\n",
    "coordinates = svm_coordinate_sampling(segm_mask, roi)\n",
    "\n",
    "print(coordinates.shape)"
   ]
  },
  {
   "cell_type": "code",
   "execution_count": 24,
   "metadata": {},
   "outputs": [
    {
     "name": "stdout",
     "output_type": "stream",
     "text": [
      "(192,)\n",
      "created datasets\n",
      "(9976, 192) (9976,)\n",
      "fitting model\n",
      "Accuracy: 0.8364073777064955\n"
     ]
    }
   ],
   "source": [
    "import numpy as np\n",
    "from sklearn.svm import SVC\n",
    "from sklearn.model_selection import train_test_split\n",
    "from sklearn.metrics import accuracy_score\n",
    "\n",
    "\n",
    "# Step 3: Prepare the data for SVM training\n",
    "descriptors = []\n",
    "labels = []\n",
    "for coord in coordinates:\n",
    "    descriptor = fn_hog_lbp_descriptor(coord, mri_scan)\n",
    "    # if descriptor!= None # makeshiftSIFT(mri_scan, coord)\n",
    "    descriptor = np.reshape(descriptor, [descriptor.shape[1],])\n",
    "    descriptors.append(descriptor)\n",
    "    value = segm_mask[coord[0], coord[1], coord[2]]\n",
    "    if value == 0:\n",
    "        labels.append(0)\n",
    "    elif value == 1 or value == 3:\n",
    "        labels.append(1)\n",
    "    elif value == 2 or value == 4:\n",
    "        labels.append(2)\n",
    "    else:\n",
    "        labels.append(value)   \n",
    "    \n",
    "    if len(descriptors) == 1:\n",
    "        print(descriptor.shape)\n",
    "    # labels.append(value)\n",
    "    \n",
    "    \n",
    "X = np.array(descriptors)\n",
    "y = np.array(labels)\n",
    "\n",
    "print('created datasets')\n",
    "\n",
    "X_train, X_test, y_train, y_test = train_test_split(X, y, test_size=0.2, random_state=42)\n",
    "\n",
    "print(X_train.shape, y_train.shape )\n",
    "# Step 4: Train the SVM\n",
    "svm = SVC(kernel= 'linear', decision_function_shape ='ovr')\n",
    "print('fitting model')\n",
    "svm.fit(X_train, y_train)\n",
    "\n",
    "# Step 5: Predict on the test set\n",
    "y_pred = svm.predict(X_test)\n",
    "\n",
    "# Step 6: Evaluate the model\n",
    "accuracy = accuracy_score(y_test, y_pred)\n",
    "print(\"Accuracy:\", accuracy)"
   ]
  },
  {
   "cell_type": "code",
   "execution_count": 34,
   "metadata": {},
   "outputs": [
    {
     "name": "stdout",
     "output_type": "stream",
     "text": [
      "[[ 0.00000000e+00 -4.82404830e+00  0.00000000e+00  0.00000000e+00\n",
      "   0.00000000e+00  5.90571147e+00  0.00000000e+00  0.00000000e+00\n",
      "   0.00000000e+00 -1.39435215e+00  0.00000000e+00  0.00000000e+00\n",
      "   6.79204518e+00  0.00000000e+00  0.00000000e+00  0.00000000e+00\n",
      "   3.52002782e+00 -8.41468938e-01 -4.31640925e+00  0.00000000e+00\n",
      "   0.00000000e+00  0.00000000e+00  3.41044426e-06  0.00000000e+00\n",
      "  -3.06098773e+00  0.00000000e+00  0.00000000e+00  0.00000000e+00\n",
      "  -7.42952416e+00  6.10311588e-06 -9.37289719e-01 -5.35576030e+00\n",
      "  -4.12607454e+00  0.00000000e+00  0.00000000e+00  0.00000000e+00\n",
      "   0.00000000e+00  0.00000000e+00  0.00000000e+00  0.00000000e+00\n",
      "   4.24206797e-05  0.00000000e+00  7.38822306e-01 -6.28921057e+00\n",
      "  -2.00607068e+00 -2.36809004e+00 -2.32649049e-01 -4.53459392e-01\n",
      "  -4.97446268e-01 -9.79710728e-01 -1.40538534e+00 -1.38608296e+00\n",
      "  -1.52930100e+00 -1.11802621e+00 -1.84614010e+00 -1.03149456e+00\n",
      "  -8.60188661e-01 -9.58027876e-01 -1.65182288e-01 -3.22590014e-01\n",
      "   2.60798716e-01  5.32741665e-01  3.48976462e-01 -3.01390357e-01\n",
      "   2.01057811e-01  4.72781350e-01 -3.53708448e-01  5.53114708e-01\n",
      "   3.98058899e-01  6.74957224e-01  1.99134018e-01  3.12328108e-01\n",
      "  -1.02090947e+00 -5.52656307e-01  1.14756049e-01  2.67828344e-02\n",
      "  -1.53332663e-01  2.17089841e-01 -2.34568408e-01 -8.99875291e-01\n",
      "  -1.15293312e+00 -6.73369577e-01 -2.97952343e-01 -2.73450560e-01\n",
      "   2.20838873e-01 -1.95388885e-01 -4.75884034e-01 -3.24080752e-01\n",
      "  -4.78523385e-03 -7.70429033e-01 -5.30545097e-01 -7.19009832e-01\n",
      "  -3.28296013e-01  3.31649099e-01  1.88798748e-01  2.37060446e-01\n",
      "   3.80911027e-01  4.48707376e-01  1.24688104e+00 -7.86467789e-01\n",
      "  -1.54712537e-01 -1.29142829e+00 -1.88103663e+00 -8.20922749e-01\n",
      "  -1.29497857e-01 -3.58765541e-01 -5.64311677e-01 -3.57868933e-02\n",
      "   6.68918291e-01 -1.05989448e-01 -1.25388568e-01  6.87963743e-01\n",
      "   6.93097358e-01  7.54801951e-01  3.85512386e-01  2.86013553e-01\n",
      "   1.04404576e+00  1.63002052e+00 -5.31777134e-01 -2.37626810e-01\n",
      "  -2.03625575e-01 -1.71662439e-01  2.34932544e-01 -6.34945377e-01\n",
      "  -1.16110082e+00 -4.34907080e-01  1.20660079e-01  3.85854532e-01\n",
      "  -7.16726946e-02 -7.48903450e-01 -2.24894700e-01 -2.06930732e+00\n",
      "  -8.45054800e-01 -1.48174443e+00 -9.78284368e-01  3.84801884e-01\n",
      "  -5.87228340e-02  1.04551386e+00 -4.61078094e-01 -2.58865003e-01\n",
      "  -4.06830810e-01  7.24825582e-01  3.71248057e-04  2.65839078e-01\n",
      "  -7.40794641e-01 -7.44064596e-01 -1.82863967e+00 -4.47833585e-01\n",
      "  -9.69635910e-01 -5.99634269e-01 -4.12148175e-01 -7.21321297e-01\n",
      "  -6.84597097e-01 -9.81397151e-02  8.41563775e-01  1.04417632e+00\n",
      "   8.79036278e-01  7.67439789e-01  3.97649785e-01 -4.64311158e-02\n",
      "  -3.11701972e-01  3.46187609e-01 -4.34846721e-01  7.95415147e-02\n",
      "  -1.02324122e+00 -3.70257608e-01 -3.12276563e-01 -1.54431416e-01\n",
      "  -3.53008220e-01  2.10247229e-01 -8.96598549e-01 -1.55467171e+00\n",
      "  -5.89939093e-01  2.86278504e-01  5.31964851e-01  1.79994098e-01\n",
      "   5.48128159e-01 -5.03799814e-01 -2.98651716e-01  1.03042259e+00\n",
      "  -4.34928216e-01  3.99229835e-02  4.84515360e-01  1.32481858e-01\n",
      "  -5.69624056e-01 -8.96069300e-02  3.33481676e-01  8.87729277e-01\n",
      "  -2.45130646e-02 -3.08230366e-01 -6.75289198e-01  2.44044455e-01]\n",
      " [ 0.00000000e+00  1.68614834e+00  0.00000000e+00  0.00000000e+00\n",
      "   0.00000000e+00  7.23865003e+00  0.00000000e+00  0.00000000e+00\n",
      "   0.00000000e+00  5.26039137e+00  0.00000000e+00  0.00000000e+00\n",
      "   7.41974424e+00  0.00000000e+00  0.00000000e+00  0.00000000e+00\n",
      "   4.53026754e+00  6.59696030e+00  7.28007634e+00  0.00000000e+00\n",
      "   0.00000000e+00  0.00000000e+00 -2.79727248e-05  0.00000000e+00\n",
      "   1.02589183e+00  0.00000000e+00  0.00000000e+00  0.00000000e+00\n",
      "   3.02894743e+00  1.95603948e-06  3.27547836e+00  5.11205093e+00\n",
      "   4.26826970e+00  0.00000000e+00  0.00000000e+00  0.00000000e+00\n",
      "   0.00000000e+00  0.00000000e+00  0.00000000e+00  0.00000000e+00\n",
      "   2.67623050e-05  0.00000000e+00 -5.78513089e+00 -1.11878071e+00\n",
      "  -4.15393789e-03 -1.16801107e+00 -5.51615362e-01  6.31278656e-01\n",
      "   1.00855887e-01 -2.16141168e-01 -2.39829003e-01  3.57453428e-01\n",
      "   2.30193858e-01  6.95180368e-02 -4.45059202e-01  4.60639432e-02\n",
      "  -1.85365042e-01 -1.48657617e-01  1.22258176e-01 -1.37737936e-01\n",
      "  -3.42413002e-01  1.96360611e-01  6.48681642e-01 -5.30651739e-01\n",
      "   5.55484708e-01 -4.90488103e-01  1.34727709e-01  5.03401810e-01\n",
      "  -6.87784937e-01 -2.79035101e-01 -7.15952833e-01  9.37910752e-02\n",
      "   2.81694325e+00  1.56468679e+00  2.41546463e+00  6.10516409e-01\n",
      "  -7.30279500e-01 -1.54565842e-01 -6.23235684e-01  8.99278642e-01\n",
      "   2.33992261e+00  1.97425277e+00  9.90758484e-01  1.16766891e+00\n",
      "  -1.49034984e-01  9.55048911e-02  5.67494770e-01 -1.07235219e+00\n",
      "   7.33106914e-02  8.71444565e-01  9.69358662e-02  3.17484669e-01\n",
      "  -1.45553151e-01  5.12283026e-01 -1.39645042e+00 -6.98680953e-01\n",
      "  -8.95322446e-01  1.54092488e+00  1.92196669e+00  1.15031300e+00\n",
      "   1.84207701e+00  2.56797930e+00  2.17227640e+00  1.29535322e+00\n",
      "   1.24928681e+00  2.39372374e+00  2.41413241e+00  1.75865470e+00\n",
      "   1.59083268e+00  2.38433205e+00  2.10927493e+00  9.59872618e-01\n",
      "   9.85599278e-01  1.23228524e+00  1.56879122e+00  3.52530866e-01\n",
      "  -5.43534362e-02 -5.63443068e-02  5.30086581e-01  1.80379432e+00\n",
      "   2.70625734e-01 -8.49983462e-01 -4.42478579e-01  4.57271819e-02\n",
      "   6.63445650e-02  1.92509782e+00  1.56777854e+00  2.11434983e+00\n",
      "  -2.13384158e-01  5.73823922e-02  6.61141099e-02  5.49028869e-01\n",
      "   2.05979031e+00  7.32214979e-01 -9.10397680e-02  5.97357323e-01\n",
      "  -5.41738917e-01 -3.70414264e-01  1.26456592e+00  9.71088167e-02\n",
      "  -6.22221412e-01 -3.68136659e-01 -3.96650059e-01  7.93654852e-02\n",
      "  -7.44825483e-01  1.29833258e+00 -5.80856252e-01 -3.09238310e-01\n",
      "  -2.80648483e-01 -1.02218351e-01 -9.53268335e-01  1.07223970e+00\n",
      "   1.86167356e+00  3.13468287e+00  3.18606829e+00  2.27489445e+00\n",
      "   2.55750272e+00  1.56135518e+00  1.07996123e+00  1.77287788e+00\n",
      "   2.44182366e+00  5.23513276e-01  1.73771638e-01  4.36910485e-01\n",
      "  -6.84518891e-01  6.70347421e-01  6.69699058e-01  4.02633419e-01\n",
      "  -1.20341495e-01  1.51966633e+00  1.38622843e+00  1.62955095e+00\n",
      "   1.37892443e+00  1.45161226e+00  2.43900532e+00  1.52756726e+00\n",
      "   1.20576885e+00  5.35878373e-01  8.63214078e-02  6.22439234e-01\n",
      "  -2.32433155e-01 -9.03421042e-01 -2.50748087e-01 -9.39723265e-01\n",
      "  -7.31579251e-01 -8.99393322e-01  4.34055795e-01  1.36022931e+00\n",
      "   7.64118676e-01  1.25489516e+00 -3.92004192e-01 -2.05890808e-01]\n",
      " [ 0.00000000e+00  5.81976358e+00  0.00000000e+00  0.00000000e+00\n",
      "   0.00000000e+00  4.74167933e+00  0.00000000e+00  0.00000000e+00\n",
      "   0.00000000e+00  5.74689573e+00  0.00000000e+00  0.00000000e+00\n",
      "   6.11566352e+00  0.00000000e+00  0.00000000e+00  0.00000000e+00\n",
      "   3.20298347e+00  8.80606585e+00  6.81647293e+00  0.00000000e+00\n",
      "   0.00000000e+00  0.00000000e+00 -6.53837601e-05  0.00000000e+00\n",
      "   3.76620749e+00  0.00000000e+00  0.00000000e+00  0.00000000e+00\n",
      "   9.43790891e+00 -2.90514860e-05  3.73984430e+00  9.22903884e+00\n",
      "   7.92694282e+00  0.00000000e+00  0.00000000e+00  0.00000000e+00\n",
      "   0.00000000e+00  0.00000000e+00  0.00000000e+00  0.00000000e+00\n",
      "   1.47050327e-05  0.00000000e+00 -9.08832800e-01  5.70553749e+00\n",
      "   3.19171837e+00  2.71477947e+00  9.11997621e-01  1.46017063e+00\n",
      "   3.12871265e-01  9.81463515e-01  1.16900055e+00  1.01573504e+00\n",
      "   1.52881744e+00  1.33067861e+00  1.40862518e+00  5.79321290e-01\n",
      "   5.17064664e-01  4.65668079e-01 -3.97377133e-02  6.40117385e-01\n",
      "  -5.54516902e-01 -3.95849482e-01  1.29983683e-01  7.59592276e-01\n",
      "   6.76178442e-02 -9.35373752e-02  4.93211638e-02 -5.83816151e-01\n",
      "  -5.52788272e-01 -1.16348851e+00 -4.29062834e-01 -1.51904203e-01\n",
      "   3.38018980e+00  5.89021773e-01  5.49398040e-01 -1.39524848e+00\n",
      "  -1.09125885e+00 -8.88815684e-01 -1.05868911e+00  1.16090558e+00\n",
      "   2.06794701e+00  1.42248734e+00  8.63649474e-01 -3.72785687e-01\n",
      "  -5.21805930e-01  3.47511071e-01  9.58813980e-01  4.83536951e-01\n",
      "   1.34077329e-01  1.45353954e+00  1.04374082e+00  1.54041128e+00\n",
      "   2.79221344e-01  3.57981330e-01 -4.37175467e-01 -9.65706979e-01\n",
      "  -1.18478886e+00 -7.22385821e-01  1.57701310e-01  9.86285921e-01\n",
      "   4.90322720e-01  2.03752243e+00  5.08596402e+00  4.38482789e+00\n",
      "   2.93253334e+00  3.41478522e+00  1.64486997e+00  1.21905854e+00\n",
      "   7.95084541e-01  1.89117951e+00  1.88586147e+00 -4.08036573e-01\n",
      "  -5.40693843e-01  1.76716704e+00  1.39518912e+00  3.24540818e-01\n",
      "  -3.25050802e-01 -1.14235400e+00  7.16329516e-01  1.71114251e+00\n",
      "   1.74870709e-01 -5.06697698e-01 -1.03953607e+00  1.66758904e-01\n",
      "   8.76667377e-01  1.63022572e+00  1.83737648e+00  7.73618426e-01\n",
      "  -4.96137906e-02 -7.09585748e-02 -3.35473477e-01  4.25295426e+00\n",
      "   2.24887482e+00  1.95441016e+00  9.93022335e-01  3.20017061e-01\n",
      "  -6.16172861e-01  4.07727927e-01  1.99887584e+00  9.09849016e-01\n",
      "   1.79696378e+00  2.03921356e+00  1.90140363e+00  1.78562817e+00\n",
      "   2.30967656e+00  1.83118672e+00  1.13103041e+00  7.27355036e-01\n",
      "   1.26389096e+00  6.14545106e-01  9.03647072e-01  1.86164329e+00\n",
      "   1.70557382e+00  2.28633996e+00  2.04469795e+00  6.96893743e-01\n",
      "   8.68321674e-01  1.28523793e+00  7.08580368e-01  1.26867559e+00\n",
      "   2.42565713e+00  1.22784046e+00  4.62556467e-01  2.88999742e-01\n",
      "   9.72739461e-01  1.12425964e+00  1.57597799e+00  1.89075095e+00\n",
      "   1.57687613e+00  1.89555958e+00  3.08998199e+00  2.29792558e+00\n",
      "   2.07585296e+00  1.25563046e+00  1.93600200e+00  1.30921438e+00\n",
      "   3.69268976e-01  7.49599295e-01  7.04421274e-01  7.16251742e-01\n",
      "  -3.99902651e-03 -5.37309552e-01 -1.32860656e-01 -6.10947073e-01\n",
      "   5.41610802e-01  7.36049659e-01  1.36539716e+00  1.41077680e+00\n",
      "   2.03077280e+00  1.80381179e+00  1.11333172e+00  1.18638809e-01]] [  7.45322015 -20.94187056 -31.17963681]\n",
      "true 3.0\n",
      "pred_1 [1]\n",
      "Predicted class: 2\n"
     ]
    }
   ],
   "source": [
    "coord = coordinates[1500]\n",
    "descriptor = fn_hog_lbp_descriptor(coord, mri_scan)\n",
    "\n",
    "value = segm_mask[coord[0], coord[1], coord[2]]\n",
    "\n",
    "print(\"true\", value)\n",
    "print(\"pred_1\", svm.predict(descriptor))\n",
    "descriptor =descriptor.reshape(192,)\n",
    "decision_value = np.dot(descriptor, svm.coef_.T ) + svm.intercept_\n",
    "predicted_class = decision_value.argmax()\n",
    "\n",
    "print(\"Predicted class:\", predicted_class)"
   ]
  },
  {
   "cell_type": "code",
   "execution_count": 8,
   "metadata": {},
   "outputs": [
    {
     "name": "stdout",
     "output_type": "stream",
     "text": [
      "              precision    recall  f1-score   support\n",
      "\n",
      "           0       0.76      0.72      0.74       670\n",
      "           1       0.83      0.88      0.85       959\n",
      "           2       0.84      0.82      0.83      1180\n",
      "\n",
      "    accuracy                           0.82      2809\n",
      "   macro avg       0.81      0.81      0.81      2809\n",
      "weighted avg       0.82      0.82      0.82      2809\n",
      "\n"
     ]
    }
   ],
   "source": [
    "from sklearn.metrics import classification_report\n",
    "print(classification_report(y_test, y_pred))"
   ]
  },
  {
   "cell_type": "code",
   "execution_count": 20,
   "metadata": {},
   "outputs": [
    {
     "name": "stderr",
     "output_type": "stream",
     "text": [
      "C:\\Users\\ChrisIoannidis\\AppData\\Local\\Temp\\ipykernel_26764\\3037991853.py:10: DeprecationWarning: Please use `map_coordinates` from the `scipy.ndimage` namespace, the `scipy.ndimage.interpolation` namespace is deprecated.\n",
      "  from scipy.ndimage.interpolation import map_coordinates\n"
     ]
    }
   ],
   "source": [
    "from utils import getAverageMask, structure_tensor_3D, getGradients\n",
    "from trimesh.creation import icosphere\n",
    "from sklearn.utils.extmath import cartesian\n",
    "from sklearn.metrics.pairwise import linear_kernel\n",
    "import math\n",
    "import itertools\n",
    "from sklearn.preprocessing import normalize\n",
    "from scipy.stats import kurtosis\n",
    "from scipy.special import sph_harm\n",
    "from scipy.ndimage.interpolation import map_coordinates"
   ]
  },
  {
   "cell_type": "code",
   "execution_count": 21,
   "metadata": {},
   "outputs": [],
   "source": [
    "def lbp_ri_sh(point, img, patch_size, sph_degree, ico_radius, ico_level, n_bins = 30, concatenate = True):\n",
    "    '''\n",
    "    Computes a 3D LBP texture descriptor for a region centered around a voxel. The intensity values \n",
    "    of the neighboring voxels is treated as a spherical function, and decomposed into a sum of\n",
    "    spherical harmonics, achieving rotational invariance. A histogram of the texture codes is computed for\n",
    "    each frequency (band) and the final descriptor is the concatenation of the above histograms.\n",
    "\n",
    "    Reference : 3D LBP-Based Rotationally Invariant Region Description, \n",
    "                Banerjee J., Moelker A., Niessen W., Walsum  v. T., \n",
    "                ACCV 2012 Workshops, Part I, LNCS 7728, pp. 26-37, 2013\n",
    "\n",
    "    ...\n",
    "\n",
    "    Parameters\n",
    "    ----------\n",
    "    point : tuple\n",
    "        the point to be described\n",
    "    img : ndarray (width x height x depth)\n",
    "        the MR image\n",
    "    patch_size : int\n",
    "        size of cellular patch around point\n",
    "    sph_degree : int\n",
    "        degree up to which to expand to spherical harmonics\n",
    "    ico_radius : float\n",
    "        radius of icosahedron to uniformly sample intensities around patch voxels\n",
    "    ico_level : int\n",
    "        controls refinement level of icosahedron\n",
    "    n_bins : int\n",
    "        number of bins for LBP histograms\n",
    "    concatenate : bool\n",
    "        if true, concatenate histograms, otherwise weighted aggregation\n",
    "\n",
    "    Returns\n",
    "    ------- \n",
    "    D : ndarray \n",
    "        LBP descriptor\n",
    "\n",
    "    '''\n",
    "\n",
    "    #extract image patch\n",
    "    psize = patch_size // 2\n",
    "    x, y, z = point\n",
    "    patch = img[x - psize - int(math.ceil(ico_radius)) : x + psize + int(math.ceil(ico_radius)) + 1,\n",
    "                y - psize - int(math.ceil(ico_radius)) : y + psize + int(math.ceil(ico_radius)) + 1,\n",
    "                z - psize - int(math.ceil(ico_radius)) : z + psize + int(math.ceil(ico_radius)) + 1]\n",
    "    \n",
    "    patch_coords = cartesian((range(patch_size), range(patch_size), range(patch_size))) + 1    \n",
    "\n",
    "    #construct icosahedron for uniform sampling on sphere surface\n",
    "    ico = icosphere(subdivisions = ico_level, radius = ico_radius)\n",
    "    ico_coords = np.array(ico.vertices)\n",
    "    theta = np.arccos(ico_coords[:, 2] / ico_radius)\n",
    "    phi = np.arctan2(ico_coords[:, 1], ico_coords[:, 0])\n",
    "\n",
    "    #get Spherical Harmonics expansion coefficients (up to degree sph_degree)\n",
    "    m = list(itertools.chain.from_iterable([[i for i in range(-n,n+1)] for n in range(sph_degree)]))\n",
    "    m = np.array(m)\n",
    "\n",
    "    l = list(itertools.chain.from_iterable([[k for _ in range(2 * k + 1)] for k in range(sph_degree)]))\n",
    "    l = np.array(l)\n",
    "\n",
    "    Y = sph_harm(m[None, :], l[None, :], theta[:, None], phi[:, None])\n",
    "\n",
    "    #sample sphere neighbors for each voxel in patch and interpolate intensity\n",
    "    mapped_coords = patch_coords[None, :, :] + ico_coords[:, None, :]\n",
    "    mapped_int = map_coordinates(patch, mapped_coords.T, order = 3)\n",
    "    center_int = patch[ico_radius : -ico_radius, ico_radius : -ico_radius, ico_radius : -ico_radius]\n",
    "\n",
    "    #Compute kurtosis (for better rotation invariance)\n",
    "    kurt = kurtosis(mapped_int)\n",
    "\n",
    "    #Apply sign function and pass obtain spherical expansion coefficients for each sample\n",
    "    f = np.greater_equal(center_int.ravel()[:, None], mapped_int).astype('int')\n",
    "    c = f.dot(Y)\n",
    "\n",
    "    #obtain frequency components of threshold function by integrating and normalizing over orders m\n",
    "    f = np.multiply(c[:, None, l == 0], Y[None, :, l == 0])\n",
    "    for n in range(1, sph_degree):\n",
    "        f = np.concatenate((f, np.sum(np.multiply(c[:, None, l == n], Y[None, :, l == n]),\n",
    "                            axis=2, keepdims=True)), axis=2)\n",
    "    f = np.sqrt(np.sum(f**2, axis=1))\n",
    "\n",
    "    #keep real parts of decomposition and kurtosis\n",
    "    f = np.real(f)\n",
    "    kurt = np.real(kurt)\n",
    "\n",
    "    #extract histograms\n",
    "    H = np.histogram(kurt, bins = n_bins)[0]\n",
    "    for i in range(sph_degree):\n",
    "        H = np.column_stack((H, np.histogram(f[:, i], bins = n_bins)[0]))\n",
    "    H = normalize(H, axis = 0)\n",
    "\n",
    "    #Return Descriptor (concatenated or aggregated histograms)\n",
    "    if concatenate is True:\n",
    "        D = H.T.ravel()\n",
    "    else: \n",
    "        D = H.sum(axis = 1)\n",
    "    D = D / np.linalg.norm(D)\n",
    "\n",
    "    return D\n",
    "\n",
    "\n",
    "\n",
    "\n",
    "\n",
    "def hog_3d_proj(point, image, psize = 5, rsize = 15, orientation = 'vertices', level = 1, mode = 'concatenated', \n",
    "                rot_inv = False, norm = 'l2'):\n",
    "    '''\n",
    "    Computes a 3D variant of the HOG Descriptor for an image region centered arounda voxel\n",
    "    The Region of size (rsize x rsize x rsize) is compartmentalized into a set of disjoint patches,\n",
    "    each of size (psize x psize x psize). A histogram of oriented gradients is computed for each patch, \n",
    "    with the orientation bins corresponding to vertices of centers of faces of a regular (refined) icosahedron.\n",
    "    The final descriptor is a weighted aggregate of those histograms. Currently, implementation supports regions arranged in\n",
    "    3x3x3 patches.\n",
    "\n",
    "    Reference: Alexander Klaser, Marcin Marszalek, Cordelia Schmid. \n",
    "               A Spatio-Temporal Descriptor Based on 3D-Gradients. \n",
    "               BMVC 2008 - 19th British Machine Vision Conference, Sep 2008, Leeds, United Kingdom.pp.275:1-10. \n",
    "               DOI:10.5244/C.22.99\n",
    "\n",
    "    ...\n",
    "\n",
    "    Parameters\n",
    "    ----------\n",
    "    point : array - like\n",
    "        the voxels to be characterized\n",
    "    image : ndarray\n",
    "        the image containing the voxels\n",
    "    psize : int\n",
    "        size of patches in region\n",
    "    rsize : int\n",
    "        size of region around central voxel\n",
    "    orientation : string\n",
    "        whether to associate histogram bins with vertices of centroids of faces of the icosahedron\n",
    "    ico_coords : string\n",
    "        coordinate system to define icosahedron on\n",
    "    level : int\n",
    "        number of refienement steps for icosahedron\n",
    "    mode : string\n",
    "        chooses whether to concatenate or aggregate patch histograms to form final descriptor\n",
    "    \n",
    "    Returns\n",
    "    -------\n",
    "    D : ndarray\n",
    "        voxel descriptor\n",
    "\n",
    "    '''\n",
    "\n",
    "    #sanity check\n",
    "    assert type(rsize // psize) == int, print(\"Wrong combination of regional and patch sizes\")\n",
    "\n",
    "    #set params\n",
    "    rs = rsize // 2\n",
    "    ps = psize // 2\n",
    "    ncells = rsize // psize\n",
    "    \n",
    "    # get icosahedron\n",
    "    ico = icosphere(subdivisions = level)\n",
    "    if orientation  == 'faces':\n",
    "        axes = np.array(ico.face_normals)\n",
    "    else:\n",
    "        axes = np.array(ico.vertices)\n",
    "\n",
    "    # get average masks\n",
    "    region_mask = getAverageMask(rsize // psize, 'manhattan')\n",
    "    patch_mask = getAverageMask(psize, 'manhattan')\n",
    "\n",
    "    #calculate partial derivatives\n",
    "    x, y, z = point \n",
    "    xp = range(- rs + ps, rs - ps + 1, psize)\n",
    "    yp = range(- rs + ps, rs - ps + 1, psize)\n",
    "    zp = range(- rs + ps, rs - ps + 1, psize)\n",
    "    patch_centers = cartesian((xp, yp, zp))\n",
    "    patch_locations = patch_centers + psize\n",
    "\n",
    "    # extracting +1 voxel in each direction for computational consistency\n",
    "    region = image[x - rs - 1 : x + rs + 2,\n",
    "                   y - rs - 1 : y + rs + 2,\n",
    "                   z - rs - 1 : z + rs + 2]\n",
    "        \n",
    "    i_dx, i_dy, i_dz = getGradients(region)\n",
    "\n",
    "    #get gradients at the patch level\n",
    "    dx = np.array([i_dx[ploc[0] : ploc[0] + psize, ploc[1] : ploc[1] + psize,\n",
    "                        ploc[2] : ploc[2] + psize] for ploc in patch_locations])\n",
    "\n",
    "    dy = np.array([i_dy[ploc[0] : ploc[0] + psize, ploc[1] : ploc[1] + psize,\n",
    "                        ploc[2] : ploc[2] + psize] for ploc in patch_locations])\n",
    "    \n",
    "    dz = np.array([i_dz[ploc[0] : ploc[0] + psize, ploc[1] : ploc[1] + psize,\n",
    "                        ploc[2] : ploc[2] + psize] for ploc in patch_locations])\n",
    "\n",
    "    dx = dx.reshape((ncells**3, psize**3))\n",
    "    dy = dy.reshape((ncells**3, psize**3))\n",
    "    dz = dz.reshape((ncells**3, psize**3))\n",
    "\n",
    "    #collect all gradients in one array and calculate magnitudes\n",
    "    raw_gradients = np.dstack((dx, dy, dz))\n",
    "    if rot_inv is True:\n",
    "        #rotate region according to dominant direction to achieve rotational invariance\n",
    "        R = structure_tensor_3D(raw_gradients, getAverageMask(rsize, 'gaussian'))\n",
    "        gradients = R.T.dot(raw_gradients.reshape((-1, 3)).T) \n",
    "        gradients = gradients.reshape(3, raw_gradients.shape[1], raw_gradients.shape[0]).T\n",
    "    else:\n",
    "        gradients = raw_gradients\n",
    "    gradient_magnitudes = np.linalg.norm(gradients, axis = 2)\n",
    "\n",
    "    #project gradients to icosahedron orientation axes\n",
    "    projected_gradients = gradients.dot(axes.T)\n",
    "    projected_gradients /= (gradient_magnitudes[:, :, None]+0.001)\n",
    "\n",
    "    # compute theshold to clip projected gradients and recalculate magnitude\n",
    "    inner_prods = linear_kernel(axes)[0, :]\n",
    "    thres = np.sort(inner_prods)[-2]\n",
    "\n",
    "    projected_gradients -= thres\n",
    "    projected_gradients[projected_gradients < 0] = 0\n",
    "    projected_gradient_magnitudes = np.linalg.norm(projected_gradients, axis = 2)\n",
    "\n",
    "    #distribute original magnitude in orientation bins\n",
    "    gradient_histograms = projected_gradients * (gradient_magnitudes[:, :, None] / (projected_gradient_magnitudes[:, :, None]+0.001))\n",
    "    D = gradient_histograms.sum(axis = 1)\n",
    "\n",
    "    if mode == 'flatten':\n",
    "        Descriptor = (region_mask.ravel()[:, None] * D).ravel()\n",
    "    else:\n",
    "        Descriptor = region_mask.ravel().dot(D)\n",
    "\n",
    "    if norm == 'l2':\n",
    "        Descriptor = Descriptor / np.linalg.norm(Descriptor)\n",
    "    if norm == 'l2-hys':\n",
    "        Descriptor = Descriptor / np.linalg.norm(Descriptor)\n",
    "        Descriptor = np.clip(Descriptor, a_min = 0, a_max = 0.25)\n",
    "        Descriptor = Descriptor / np.linalg.norm(Descriptor)\n",
    "    \n",
    "    return Descriptor\n",
    "   \n",
    "\n",
    "def fn_hog_lbp_descriptor(coordinate, array):  \n",
    "    descriptor_lbp = lbp_ri_sh(coordinate, array, 5, 4, 2, 2, concatenate = True)\n",
    "    descriptor_hog = hog_3d_proj(coordinate, array) \n",
    "    descriptor_lbp_hog = np.concatenate([descriptor_hog,descriptor_lbp])\n",
    "    return descriptor_lbp_hog.reshape(1, len(descriptor_lbp_hog))"
   ]
  },
  {
   "cell_type": "markdown",
   "metadata": {},
   "source": [
    "# CODEWORDS"
   ]
  },
  {
   "cell_type": "code",
   "execution_count": 42,
   "metadata": {},
   "outputs": [],
   "source": [
    "all_descriptors = []"
   ]
  },
  {
   "cell_type": "code",
   "execution_count": 43,
   "metadata": {},
   "outputs": [],
   "source": [
    "\n",
    "def cw_coordinate_sampling(segm, roi):\n",
    "    coord_labels = []\n",
    "    coordinates = []\n",
    "    \n",
    "    mask_values = segm[roi_perimeter[:,0], roi_perimeter[:,1], roi_perimeter[:,2]]\n",
    "\n",
    "    threshold_4 = np.count_nonzero(mask_values == 4) #.shape[0]#len(segm[segm[coordinate_cube]==4])\n",
    "    \n",
    "    threshold_1=int(threshold_4/1.3)\n",
    "    threshold_2=int(threshold_4*1.3)\n",
    "    threshold_3=int(threshold_4/1.3)\n",
    "    threshold_0=int(threshold_4/1.4)\n",
    "   \n",
    "    i_0,i_1,i_2,i_3,i_4 =0, 0, 0, 0, 0\n",
    "    \n",
    "        \n",
    "        \n",
    "    for coordinate in roi_perimeter:\n",
    "        x,y,z = coordinate\n",
    "        if roi[x,y,z]==1:\n",
    "            if segm[x,y,z]==0 and i_0<threshold_0:\n",
    "                coordinates.append(coordinate)\n",
    "                i_0+=1\n",
    "                descriptor = fn_hog_lbp_descriptor(coordinate, mri_scan)\n",
    "                descriptor = np.reshape(descriptor, [descriptor.shape[1],])\n",
    "                all_descriptors.append(descriptor)    \n",
    "            elif segm[x,y,z]==1 and i_1<threshold_1:\n",
    "                coordinates.append(coordinate)\n",
    "                i_1+=1\n",
    "                descriptor = fn_hog_lbp_descriptor(coordinate, mri_scan)\n",
    "                descriptor = np.reshape(descriptor, [descriptor.shape[1],])\n",
    "                all_descriptors.append(descriptor)    \n",
    "            elif segm[x,y,z]==2 and i_2<threshold_2:\n",
    "                coordinates.append(coordinate)\n",
    "                i_2+=1\n",
    "                descriptor = fn_hog_lbp_descriptor(coordinate, mri_scan)\n",
    "                descriptor = np.reshape(descriptor, [descriptor.shape[1],])\n",
    "                all_descriptors.append(descriptor)    \n",
    "            elif segm[x,y,z]==3 and i_3<threshold_3:\n",
    "                coordinates.append(coordinate)\n",
    "                i_3+=1\n",
    "                descriptor = fn_hog_lbp_descriptor(coordinate, mri_scan)\n",
    "                descriptor = np.reshape(descriptor, [descriptor.shape[1],])\n",
    "                all_descriptors.append(descriptor)    \n",
    "            elif segm[x,y,z]==4 and i_4<threshold_4:\n",
    "                coordinates.append(coordinate)\n",
    "                i_4+=1 \n",
    "                descriptor = fn_hog_lbp_descriptor(coordinate, mri_scan)\n",
    "                descriptor = np.reshape(descriptor, [descriptor.shape[1],])\n",
    "                all_descriptors.append(descriptor)    \n",
    "                \n",
    "\n",
    "    # for value, count in zip(unique_values, counts):\n",
    "    #     print(f\"{value}: {count}\")\n",
    "    coordinates = np.array(coordinates)  \n",
    "    np.random.shuffle(coordinates)      \n",
    "    return coordinates"
   ]
  },
  {
   "cell_type": "code",
   "execution_count": 50,
   "metadata": {},
   "outputs": [
    {
     "name": "stdout",
     "output_type": "stream",
     "text": [
      "9001104\n",
      "got coordinates for scan no 9001104\n",
      "9002430\n",
      "got coordinates for scan no 9002430\n",
      "9002817\n",
      "got coordinates for scan no 9002817\n",
      "9003430\n",
      "got coordinates for scan no 9003430\n",
      "9004175\n",
      "got coordinates for scan no 9004175\n",
      "9005075\n",
      "got coordinates for scan no 9005075\n",
      "9005132\n",
      "got coordinates for scan no 9005132\n",
      "9006723\n",
      "got coordinates for scan no 9006723\n",
      "9007827\n",
      "9008561\n",
      "9011115\n",
      "got coordinates for scan no 9011115\n",
      "9011420\n",
      "9012867\n",
      "9013161\n",
      "9017909\n",
      "got coordinates for scan no 9017909\n",
      "9019287\n",
      "got coordinates for scan no 9019287\n",
      "9023193\n",
      "got coordinates for scan no 9023193\n",
      "9027422\n",
      "9031426\n",
      "9033937\n",
      "got coordinates for scan no 9033937\n",
      "9034644\n",
      "got coordinates for scan no 9034644\n",
      "9036287\n",
      "got coordinates for scan no 9036287\n",
      "9036770\n",
      "got coordinates for scan no 9036770\n",
      "9036948\n",
      "got coordinates for scan no 9036948\n",
      "9039627\n",
      "9040944\n",
      "got coordinates for scan no 9040944\n",
      "9041946\n",
      "got coordinates for scan no 9041946\n",
      "9044005\n",
      "9047539\n",
      "got coordinates for scan no 9047539\n",
      "9052335\n",
      "got coordinates for scan no 9052335\n",
      "9052956\n",
      "9053047\n",
      "9055836\n",
      "9056326\n",
      "9057417\n",
      "9065272\n",
      "9069761\n",
      "got coordinates for scan no 9069761\n",
      "9073948\n",
      "got coordinates for scan no 9073948\n",
      "9074437\n",
      "9075815\n",
      "9080864\n",
      "got coordinates for scan no 9080864\n",
      "9081306\n",
      "9083500\n",
      "got coordinates for scan no 9083500\n",
      "9089627\n",
      "got coordinates for scan no 9089627\n",
      "9090290\n",
      "got coordinates for scan no 9090290\n",
      "9093622\n",
      "got coordinates for scan no 9093622\n"
     ]
    }
   ],
   "source": [
    "for scan_no in os.listdir('data'):\n",
    "    try:\n",
    "        print(scan_no)\n",
    "        mri_scan = fn_scan_to_array('data/' + scan_no)\n",
    "        segm_mask = fn_segm_mask_to_array(scan_no)\n",
    "        roi = np.load('data/'+ scan_no+ '/roi.npy')\n",
    "        coordinates = cw_coordinate_sampling(segm_mask, roi)\n",
    "        print('got coordinates for scan no' , scan_no)\n",
    "        np.save('all_descriptors.npy', all_descriptors)\n",
    "    except Exception:\n",
    "        pass"
   ]
  },
  {
   "cell_type": "code",
   "execution_count": 51,
   "metadata": {},
   "outputs": [
    {
     "name": "stdout",
     "output_type": "stream",
     "text": [
      "1013.7391304347826\n"
     ]
    }
   ],
   "source": [
    "k = len(os.listdir(\"data\"))\n",
    "\n",
    "print(np.load(\"all_descriptors.npy\").shape[0] / k)"
   ]
  },
  {
   "cell_type": "code",
   "execution_count": 52,
   "metadata": {},
   "outputs": [],
   "source": [
    "def find_codewords(local_descriptors, no_of_words):\n",
    "    random_state=42\n",
    "    kmeans_model=KMeans(n_clusters=no_of_words, verbose=False, init='k-means++', random_state=random_state)\n",
    "    kmeans_model.fit(local_descriptors)\n",
    "    return kmeans_model.cluster_centers_"
   ]
  },
  {
   "cell_type": "code",
   "execution_count": 53,
   "metadata": {},
   "outputs": [],
   "source": [
    "all_descriptors = np.array(all_descriptors)\n",
    "np.save('all_descriptors.npy', all_descriptors)"
   ]
  },
  {
   "cell_type": "code",
   "execution_count": 54,
   "metadata": {},
   "outputs": [
    {
     "data": {
      "text/plain": [
       "array([ 0.00000000e+00,  1.91952094e-02,  0.00000000e+00,  0.00000000e+00,\n",
       "        0.00000000e+00, -3.04163061e-02,  0.00000000e+00,  0.00000000e+00,\n",
       "        0.00000000e+00,  1.95000876e-03,  0.00000000e+00,  0.00000000e+00,\n",
       "        1.08101642e-01,  0.00000000e+00,  0.00000000e+00,  0.00000000e+00,\n",
       "       -1.85031697e-02, -6.08567310e-03,  4.31336692e-03,  0.00000000e+00,\n",
       "        0.00000000e+00,  0.00000000e+00,  7.19988154e-09,  0.00000000e+00,\n",
       "        1.14819179e-02,  0.00000000e+00,  0.00000000e+00,  0.00000000e+00,\n",
       "        2.40337451e-02, -2.76542166e-08,  1.19314743e-03,  1.36857220e-02,\n",
       "       -5.60597150e-02,  0.00000000e+00,  0.00000000e+00,  0.00000000e+00,\n",
       "        0.00000000e+00,  0.00000000e+00,  0.00000000e+00,  0.00000000e+00,\n",
       "       -4.05641340e-08,  0.00000000e+00,  2.15605089e-02,  9.42096335e-02,\n",
       "        1.39259416e-01,  2.59231188e-02, -1.66928178e-02, -1.10397370e-01,\n",
       "       -2.51654970e-02, -1.85227800e-01, -7.21440434e-02, -2.95281069e-02,\n",
       "        3.24670336e-02,  8.72521978e-03, -6.03883366e-03,  4.94123920e-02,\n",
       "        1.07044923e-01,  2.52540588e-04,  4.36260989e-03,  2.37418138e-02,\n",
       "        1.17698907e-01,  3.00331881e-02,  4.28684771e-02,  5.13411563e-02,\n",
       "       -6.29137425e-03,  1.50165940e-02,  2.18130494e-03,  2.78518831e-02,\n",
       "        2.18130494e-03,  1.50165940e-02,  2.18130494e-03, -8.47267919e-03,\n",
       "        1.82760130e-02,  1.11353034e-03,  7.08769912e-02,  1.11353034e-03,\n",
       "       -3.37682001e-02,  1.67029551e-03,  1.67029551e-03, -1.54921871e-02,\n",
       "        1.07429017e-01,  2.78382584e-03, -3.20979046e-02,  1.99463085e-02,\n",
       "       -1.54921871e-02,  5.42712737e-02, -3.20979046e-02, -1.49354220e-02,\n",
       "        2.05030736e-02, -1.60489523e-02, -8.46988828e-02,  2.05030736e-02,\n",
       "        9.13800648e-02, -6.64228698e-02, -1.32651264e-02,  1.93895433e-02,\n",
       "       -4.75900917e-02,  1.93895433e-02,  1.93895433e-02,  1.88327781e-02,\n",
       "        1.67029551e-03, -4.87036220e-02,  7.13194069e-04,  1.75323924e-02,\n",
       "        7.13194069e-04, -1.61060042e-02,  3.36383966e-02,  1.89587805e-02,\n",
       "        1.82455864e-02, -1.53928102e-02,  8.48091856e-02,  1.96719746e-02,\n",
       "       -3.07856203e-02,  2.13958221e-03,  1.89587805e-02, -3.07856203e-02,\n",
       "        3.64911729e-02,  3.50647847e-02, -3.00724263e-02, -1.39664220e-02,\n",
       "        3.79175610e-02, -7.76772449e-02, -7.69640508e-02, -2.93592322e-02,\n",
       "       -6.22844347e-02, -5.87184644e-02,  5.54499534e-02,  3.86307551e-02,\n",
       "        1.96719746e-02,  2.10983627e-02, -3.00724263e-02,  1.01628384e-01,\n",
       "       -3.40851088e-02,  3.41409859e-04,  5.30054174e-02,  5.26640075e-02,\n",
       "        1.36563944e-03, -3.30608792e-02,  1.02422958e-03,  3.61335679e-02,\n",
       "        5.36882371e-02, -1.61890297e-02, -6.85116274e-02,  1.36563944e-03,\n",
       "       -1.02596736e-01, -6.81702175e-02,  1.36563944e-03,  1.92617185e-02,\n",
       "        2.04845915e-03, -1.51648002e-02,  3.64749778e-02,  7.05600866e-02,\n",
       "        7.15843161e-02,  1.70704930e-03,  3.71577975e-02,  3.54507482e-02,\n",
       "        7.09014964e-02, -5.09569582e-02,  5.43710568e-02,  5.33468272e-02,\n",
       "       -1.02938146e-01, -1.19468586e-01,  2.24890656e-05, -1.64732329e-02,\n",
       "       -3.29914440e-02,  6.60953332e-02, -3.29464658e-02,  4.95771222e-02,\n",
       "        8.99562625e-05,  1.65631892e-02,  4.95996113e-02,  1.65631892e-02,\n",
       "       -3.29464658e-02, -1.64057657e-02,  1.65856782e-02,  3.31038893e-02,\n",
       "       -1.64957220e-02, -4.93747206e-02,  4.49781313e-05,  1.15672455e-01,\n",
       "       -1.15380098e-01, -6.58929316e-02,  1.15717434e-01, -4.93297425e-02,\n",
       "        1.66981236e-02, -3.29014877e-02,  1.66306564e-02,  6.61628004e-02,\n",
       "        1.34934394e-04, -3.29014877e-02, -1.64507438e-02, -6.59603988e-02])"
      ]
     },
     "execution_count": 54,
     "metadata": {},
     "output_type": "execute_result"
    }
   ],
   "source": [
    "all_descriptors[0] - all_descriptors[1]"
   ]
  },
  {
   "cell_type": "code",
   "execution_count": 55,
   "metadata": {},
   "outputs": [
    {
     "name": "stderr",
     "output_type": "stream",
     "text": [
      "c:\\MySoftware\\python3\\Lib\\site-packages\\sklearn\\cluster\\_kmeans.py:870: FutureWarning: The default value of `n_init` will change from 10 to 'auto' in 1.4. Set the value of `n_init` explicitly to suppress the warning\n",
      "  warnings.warn(\n"
     ]
    }
   ],
   "source": [
    "codewords = find_codewords(all_descriptors, 40)\n",
    "np.save('codewords.npy', codewords)"
   ]
  },
  {
   "cell_type": "code",
   "execution_count": 57,
   "metadata": {},
   "outputs": [
    {
     "data": {
      "text/plain": [
       "(40, 192)"
      ]
     },
     "execution_count": 57,
     "metadata": {},
     "output_type": "execute_result"
    }
   ],
   "source": [
    "codewords.shape"
   ]
  },
  {
   "cell_type": "code",
   "execution_count": 15,
   "metadata": {},
   "outputs": [
    {
     "name": "stdout",
     "output_type": "stream",
     "text": [
      "28 18\n"
     ]
    }
   ],
   "source": [
    "import os \n",
    "import SimpleITK as sitk\n",
    "import numpy as np\n",
    "i,j=0,0\n",
    "for scan_no in os.listdir('data'):\n",
    "    try:\n",
    "        mri_scan = fn_scan_to_array('data/' + scan_no)\n",
    "        i+=1\n",
    "    except Exception:\n",
    "        j+=1\n",
    "        \n",
    "print(i,j)\n",
    "        "
   ]
  },
  {
   "cell_type": "code",
   "execution_count": null,
   "metadata": {},
   "outputs": [],
   "source": [
    "i= 0\n",
    "AVAILABLE_SCANS = []\n",
    "\n",
    "for scan_no in os.listdir()"
   ]
  }
 ],
 "metadata": {
  "kernelspec": {
   "display_name": "Python 3",
   "language": "python",
   "name": "python3"
  },
  "language_info": {
   "codemirror_mode": {
    "name": "ipython",
    "version": 3
   },
   "file_extension": ".py",
   "mimetype": "text/x-python",
   "name": "python",
   "nbconvert_exporter": "python",
   "pygments_lexer": "ipython3",
   "version": "3.11.0"
  },
  "orig_nbformat": 4
 },
 "nbformat": 4,
 "nbformat_minor": 2
}
